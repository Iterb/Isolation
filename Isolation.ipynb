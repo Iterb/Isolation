{
 "cells": [
  {
   "cell_type": "code",
   "execution_count": 5,
   "metadata": {},
   "outputs": [],
   "source": [
    "import numpy as np"
   ]
  },
  {
   "cell_type": "code",
   "execution_count": 90,
   "metadata": {},
   "outputs": [],
   "source": [
    "class Player():\n",
    "\n",
    "    def __init__(self, start_x, start_y):\n",
    "        self.start_x = start_x\n",
    "        self.start_y = start_y\n",
    "        self.pos_x = start_x\n",
    "        self.pos_y = start_y\n",
    "    \n",
    "    def return_position(self):\n",
    "        return (pos_x, pos_y)\n",
    "\n",
    "class Board():\n",
    "    \n",
    "    \"\"\"Klasa implementująca plansze do gry.\"\"\"\n",
    "    \n",
    "    \n",
    "    \"\"\"Pola planszy\"\"\"\n",
    "    PLAYER = 2\n",
    "    FREE_SQUARE = 1\n",
    "    NO_SQUARE = 0\n",
    "\n",
    "    \n",
    "    \n",
    "    def __init__(self, white_player, black_player, width=7, height=7):\n",
    "        \n",
    "        \"\"\"\n",
    "        Parameters\n",
    "        ----------\n",
    "        width : int, optional\n",
    "            Szerokość planszy do gry (domyslnie 7)\n",
    "        height : int, optional\n",
    "            Wysokość planszy do gry (domyslnie 7)\n",
    "        white_player : object\n",
    "        \n",
    "        black_player : object\n",
    "        \n",
    "        \"\"\"\n",
    "        \n",
    "        self.width = width\n",
    "        self.height = height\n",
    "        #aktywny gracz (na posunieciu)\n",
    "        self.active_player = white_player\n",
    "        #nieaktywny gracz\n",
    "        self.inactive_player = black_player\n",
    "        #np array: zawiera informacje o stanie planszy\n",
    "        self.board_status = np.ones((width,height))\n",
    "        #tablica zawierajaca informacje o stanie planszy\n",
    "        self.move_nuber = 0\n",
    "        #lista legalnych posuniec aktywnego gracza\n",
    "        self.legal_moves = []\n",
    "        #lista legalnych usuniec pola aktywnego gracza\n",
    "        self.legal_removes = []\n",
    "            \n",
    "            \n",
    "    def init_players_pos(self):\n",
    "        \"\"\"Inicjalizacja poczatkowego ustawienia figur graczy\"\"\"\n",
    "        self.board_status[self.active_player.start_x, self.active_player.start_y] = Board.PLAYER\n",
    "        self.board_status[self.inactive_player.start_x, self.inactive_player.start_y] = Board.PLAYER\n",
    "\n",
    "    def switch_turn(self):\n",
    "        \"\"\"Zmiana kolejki. Zamienia aktywnego gracza z nieaktywnym\"\"\"\n",
    "        tmp_player = self.active_player\n",
    "        self.active_player = self.inactive_player\n",
    "        self.inactive_player = tmp_player\n",
    "        \n",
    "    def get_active_player_pos(self):        \n",
    "        \"\"\"Zwraca pozycję aktywnego gracza.\n",
    "\n",
    "        Returns\n",
    "        -------\n",
    "        (int,int)\n",
    "            Współrzedne gracza\n",
    "        \"\"\"\n",
    "        return (self.active_player.pos_x, self.active_player.pos_y)\n",
    "    \n",
    "    def is_move_legal(self, move):\n",
    "        \"\"\"Sprawdza poprawność wprowadzonego ruchu.\n",
    "        \n",
    "        Parameters\n",
    "        ----------\n",
    "        move : (int, int)\n",
    "            Współrzędne sprawdzanego ruchu.\n",
    "\n",
    "        Returns\n",
    "        -------\n",
    "        bool\n",
    "            Czy współrzędne znajdują się w zakresie planszy i czy wybrane pole jest równe 1\n",
    "        \"\"\"\n",
    "        return (0 <= move[0] < self.height and 0 <= move[1] < self.width and\n",
    "                self.board_status[move[0], move[1]] == Board.FREE_SQUARE)\n",
    "    \n",
    "    def set_legal_moves(self):\n",
    "        \"\"\"Wpisuje legalne ruchy do legal_moves.\"\"\"\n",
    "        player_pos = self.get_active_player_pos()\n",
    "        self.legal_moves = []\n",
    "         #góra\n",
    "        if self.is_move_legal((player_pos[0],player_pos[1]+1)):\n",
    "            self.legal_moves.append((player_pos[0],player_pos[1]+1))\n",
    "        #dół\n",
    "        if self.is_move_legal((player_pos[0],player_pos[1]-1)):\n",
    "            self.legal_moves.append((player_pos[0],player_pos[1]-1))\n",
    "        #prawo\n",
    "        if self.is_move_legal((player_pos[0]+1,player_pos[1])):\n",
    "            self.legal_moves.append((player_pos[0]+1,player_pos[1]))\n",
    "        #lewo\n",
    "        if self.is_move_legal((player_pos[0]-1,player_pos[1])):\n",
    "            self.legal_moves.append((player_pos[0]-1,player_pos[1]))\n",
    "        #lewe-górne\n",
    "        if self.is_move_legal((player_pos[0]-1,player_pos[1]+1)):\n",
    "            self.legal_moves.append((player_pos[0]-1,player_pos[1]+1))\n",
    "        #prawe-górne\n",
    "        if self.is_move_legal((player_pos[0]+1,player_pos[1]+1)):\n",
    "            self.legal_moves.append((player_pos[0]+1,player_pos[1]+1))\n",
    "        #lewe-dolne\n",
    "        if self.is_move_legal((player_pos[0]-1,player_pos[1]-1)):\n",
    "            self.legal_moves.append((player_pos[0]-1,player_pos[1]-1))\n",
    "        #prawe-dolne\n",
    "        if self.is_move_legal((player_pos[0]+1,player_pos[1]-1)):\n",
    "            self.legal_moves.append((player_pos[0]+1,player_pos[1]-1))\n",
    "    \n",
    "    def set_legal_removes(self):\n",
    "        \"\"\"Wpisuje legalne usuniecia do legal_removes.\"\"\"\n",
    "        #Do przepisania petle\n",
    "        self.legal_removes = []\n",
    "        for x in range(self.width):\n",
    "            for y in range(self.height):\n",
    "                if (self.board_status[x,y] ==1):\n",
    "                    self.legal_removes.append((x,y))\n",
    "                 \n",
    "    def make_move(self,move):\n",
    "        \"\"\"Wykonuje ruch na planszy. Update board_status, pozycji aktywnego gracza oraz ilosci wykonanych ruchów\n",
    "        \n",
    "        Parameters\n",
    "        ----------\n",
    "        move : (int, int)\n",
    "            Współrzędne wykonywanego ruchu.\n",
    "            \n",
    "        Returns\n",
    "        -------\n",
    "        bool\n",
    "            Czy udało sie wykonać ruch\n",
    "        \"\"\"\n",
    "        current_position = self.get_active_player_pos()\n",
    "        print (self.legal_moves)\n",
    "        if (move in self.legal_moves):\n",
    "            if self.move_nuber == 0:\n",
    "                self.board_status[current_position[0]][current_position[1]] = Board.NO_SQUARE\n",
    "                self.board_status[move[0], move[1]] = Board.PLAYER\n",
    "                self.active_player.pos_x = move[0]\n",
    "                self.active_player.pos_y = move[1]\n",
    "            else:\n",
    "                self.board_status[current_position[0], current_position[1]] = Board.FREE_SQUARE\n",
    "                self.board_status[move[0], move[1]] = Board.PLAYER\n",
    "                self.active_player.pos_x = move[0]\n",
    "                self.active_player.pos_y = move[1]\n",
    "            self.move_nuber = self.move_nuber + 1\n",
    "        \n",
    "        return (move in self.legal_moves)\n",
    "    \n",
    "    def remove_square(self,move):\n",
    "        \n",
    "        \"\"\"Usuwa pole z planszy. Update board_status.\n",
    "        \n",
    "        Parameters\n",
    "        ----------\n",
    "        move : (int, int)\n",
    "            Współrzędne usuwanego pola.\n",
    "        \"\"\"\n",
    "        if (move in self.legal_moves):\n",
    "            self.board_status[move[0], move[1]] = Board.NO_SQUARE\n",
    "        \n",
    "    def print_board(self):\n",
    "        print (self.board_status)\n",
    "        \n",
    "        \n",
    "    "
   ]
  },
  {
   "cell_type": "code",
   "execution_count": 82,
   "metadata": {},
   "outputs": [
    {
     "name": "stdout",
     "output_type": "stream",
     "text": [
      "[[1. 1. 1. 2. 1. 1. 1.]\n",
      " [1. 1. 1. 1. 1. 1. 1.]\n",
      " [1. 1. 1. 1. 1. 1. 1.]\n",
      " [1. 1. 1. 1. 1. 1. 1.]\n",
      " [1. 1. 1. 1. 1. 1. 1.]\n",
      " [1. 1. 1. 1. 1. 1. 1.]\n",
      " [1. 1. 1. 2. 1. 1. 1.]]\n"
     ]
    }
   ],
   "source": [
    "white = Player(True, 6, 3)\n",
    "black = Player(False, 0, 3)\n",
    "board = Board(white, black)\n",
    "board.init_players_pos()\n",
    "board.print_board()"
   ]
  },
  {
   "cell_type": "code",
   "execution_count": 83,
   "metadata": {},
   "outputs": [],
   "source": [
    "board.set_legal_moves()"
   ]
  },
  {
   "cell_type": "code",
   "execution_count": 84,
   "metadata": {},
   "outputs": [
    {
     "name": "stdout",
     "output_type": "stream",
     "text": [
      "[(6, 4), (6, 2), (5, 3), (5, 4), (5, 2)]\n",
      "[[1. 1. 1. 2. 1. 1. 1.]\n",
      " [1. 1. 1. 1. 1. 1. 1.]\n",
      " [1. 1. 1. 1. 1. 1. 1.]\n",
      " [1. 1. 1. 1. 1. 1. 1.]\n",
      " [1. 1. 1. 1. 1. 1. 1.]\n",
      " [1. 1. 1. 1. 1. 1. 1.]\n",
      " [1. 1. 1. 0. 2. 1. 1.]]\n"
     ]
    },
    {
     "data": {
      "text/plain": [
       "[(6, 5), (5, 4), (5, 5), (5, 3)]"
      ]
     },
     "execution_count": 84,
     "metadata": {},
     "output_type": "execute_result"
    }
   ],
   "source": [
    "board.make_move((6,4))\n",
    "board.print_board()\n",
    "board.set_legal_moves()\n",
    "board.legal_moves"
   ]
  },
  {
   "cell_type": "code",
   "execution_count": 85,
   "metadata": {},
   "outputs": [
    {
     "name": "stdout",
     "output_type": "stream",
     "text": [
      "[(6, 5), (5, 4), (5, 5), (5, 3)]\n",
      "[[1. 1. 1. 2. 1. 1. 1.]\n",
      " [1. 1. 1. 1. 1. 1. 1.]\n",
      " [1. 1. 1. 1. 1. 1. 1.]\n",
      " [1. 1. 1. 1. 1. 1. 1.]\n",
      " [1. 1. 1. 1. 1. 1. 1.]\n",
      " [1. 1. 1. 1. 2. 1. 1.]\n",
      " [1. 1. 1. 0. 1. 1. 1.]]\n"
     ]
    },
    {
     "data": {
      "text/plain": [
       "[(5, 5), (5, 3), (6, 4), (4, 4), (4, 5), (6, 5), (4, 3)]"
      ]
     },
     "execution_count": 85,
     "metadata": {},
     "output_type": "execute_result"
    }
   ],
   "source": [
    "board.make_move((5,4))\n",
    "board.print_board()\n",
    "board.set_legal_moves()\n",
    "board.legal_moves"
   ]
  },
  {
   "cell_type": "code",
   "execution_count": 86,
   "metadata": {},
   "outputs": [
    {
     "name": "stdout",
     "output_type": "stream",
     "text": [
      "[(5, 5), (5, 3), (6, 4), (4, 4), (4, 5), (6, 5), (4, 3)]\n",
      "[[1. 1. 1. 2. 1. 1. 1.]\n",
      " [1. 1. 1. 1. 1. 1. 1.]\n",
      " [1. 1. 1. 1. 1. 1. 1.]\n",
      " [1. 1. 1. 1. 1. 1. 1.]\n",
      " [1. 1. 1. 1. 2. 1. 1.]\n",
      " [1. 1. 1. 1. 1. 1. 1.]\n",
      " [1. 1. 1. 0. 1. 1. 1.]]\n"
     ]
    },
    {
     "data": {
      "text/plain": [
       "[(4, 5), (4, 3), (5, 4), (3, 4), (3, 5), (5, 5), (3, 3), (5, 3)]"
      ]
     },
     "execution_count": 86,
     "metadata": {},
     "output_type": "execute_result"
    }
   ],
   "source": [
    "board.make_move((4,4))\n",
    "board.print_board()\n",
    "board.set_legal_moves()\n",
    "board.legal_moves"
   ]
  },
  {
   "cell_type": "code",
   "execution_count": 87,
   "metadata": {},
   "outputs": [
    {
     "name": "stdout",
     "output_type": "stream",
     "text": [
      "[(4, 5), (4, 3), (5, 4), (3, 4), (3, 5), (5, 5), (3, 3), (5, 3)]\n",
      "[[1. 1. 1. 2. 1. 1. 1.]\n",
      " [1. 1. 1. 1. 1. 1. 1.]\n",
      " [1. 1. 1. 1. 1. 1. 1.]\n",
      " [1. 1. 1. 1. 1. 1. 1.]\n",
      " [1. 1. 1. 1. 2. 1. 1.]\n",
      " [1. 1. 1. 1. 1. 1. 1.]\n",
      " [1. 1. 1. 0. 1. 1. 1.]]\n"
     ]
    },
    {
     "data": {
      "text/plain": [
       "[(4, 5), (4, 3), (5, 4), (3, 4), (3, 5), (5, 5), (3, 3), (5, 3)]"
      ]
     },
     "execution_count": 87,
     "metadata": {},
     "output_type": "execute_result"
    }
   ],
   "source": [
    "board.make_move((5,6))\n",
    "board.print_board()\n",
    "board.set_legal_moves()\n",
    "board.legal_moves"
   ]
  },
  {
   "cell_type": "code",
   "execution_count": 88,
   "metadata": {},
   "outputs": [
    {
     "data": {
      "text/plain": [
       "[(0, 0),\n",
       " (0, 1),\n",
       " (0, 2),\n",
       " (0, 4),\n",
       " (0, 5),\n",
       " (0, 6),\n",
       " (1, 0),\n",
       " (1, 1),\n",
       " (1, 2),\n",
       " (1, 3),\n",
       " (1, 4),\n",
       " (1, 5),\n",
       " (1, 6),\n",
       " (2, 0),\n",
       " (2, 1),\n",
       " (2, 2),\n",
       " (2, 3),\n",
       " (2, 4),\n",
       " (2, 5),\n",
       " (2, 6),\n",
       " (3, 0),\n",
       " (3, 1),\n",
       " (3, 2),\n",
       " (3, 3),\n",
       " (3, 4),\n",
       " (3, 5),\n",
       " (3, 6),\n",
       " (4, 0),\n",
       " (4, 1),\n",
       " (4, 2),\n",
       " (4, 3),\n",
       " (4, 5),\n",
       " (4, 6),\n",
       " (5, 0),\n",
       " (5, 1),\n",
       " (5, 2),\n",
       " (5, 3),\n",
       " (5, 4),\n",
       " (5, 5),\n",
       " (5, 6),\n",
       " (6, 0),\n",
       " (6, 1),\n",
       " (6, 2),\n",
       " (6, 4),\n",
       " (6, 5),\n",
       " (6, 6)]"
      ]
     },
     "execution_count": 88,
     "metadata": {},
     "output_type": "execute_result"
    }
   ],
   "source": [
    "board.set_legal_removes()\n",
    "board.legal_removes"
   ]
  },
  {
   "cell_type": "code",
   "execution_count": null,
   "metadata": {},
   "outputs": [],
   "source": []
  },
  {
   "cell_type": "code",
   "execution_count": null,
   "metadata": {},
   "outputs": [],
   "source": []
  },
  {
   "cell_type": "code",
   "execution_count": null,
   "metadata": {},
   "outputs": [],
   "source": []
  }
 ],
 "metadata": {
  "kernelspec": {
   "display_name": "Python 3",
   "language": "python",
   "name": "python3"
  },
  "language_info": {
   "codemirror_mode": {
    "name": "ipython",
    "version": 3
   },
   "file_extension": ".py",
   "mimetype": "text/x-python",
   "name": "python",
   "nbconvert_exporter": "python",
   "pygments_lexer": "ipython3",
   "version": "3.7.6"
  }
 },
 "nbformat": 4,
 "nbformat_minor": 4
}
